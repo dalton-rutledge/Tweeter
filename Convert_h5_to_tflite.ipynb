{
  "nbformat": 4,
  "nbformat_minor": 0,
  "metadata": {
    "colab": {
      "name": "Convert-h5-to-tflite.ipynb",
      "provenance": [],
      "collapsed_sections": [],
      "mount_file_id": "1n_jDyOdduZC2MTdAe4LnHZyeygHQrE2R",
      "authorship_tag": "ABX9TyO+gb9QPe2XhBT/1eH3uUwe",
      "include_colab_link": true
    },
    "kernelspec": {
      "name": "python3",
      "display_name": "Python 3"
    }
  },
  "cells": [
    {
      "cell_type": "markdown",
      "metadata": {
        "id": "view-in-github",
        "colab_type": "text"
      },
      "source": [
        "<a href=\"https://colab.research.google.com/github/dalton-rutledge/Tweeter/blob/master/Convert_h5_to_tflite.ipynb\" target=\"_parent\"><img src=\"https://colab.research.google.com/assets/colab-badge.svg\" alt=\"Open In Colab\"/></a>"
      ]
    },
    {
      "cell_type": "code",
      "metadata": {
        "id": "qum-oHqDXeHA",
        "colab_type": "code",
        "colab": {}
      },
      "source": [
        "#import tf and keras\n",
        "import tensorflow as tf\n",
        "keras = tf.keras"
      ],
      "execution_count": 0,
      "outputs": []
    },
    {
      "cell_type": "code",
      "metadata": {
        "id": "73mw-gkC2k0Q",
        "colab_type": "code",
        "outputId": "60473714-76e7-452a-dccf-d04645ecfe0a",
        "colab": {
          "base_uri": "https://localhost:8080/",
          "height": 408
        }
      },
      "source": [
        "#loading keras model\n",
        "MyModel = keras.models.load_model(\"/content/drive/My Drive/Tweeter/FinalKerasTEST.h5\") \n",
        "MyModel.summary()"
      ],
      "execution_count": 0,
      "outputs": [
        {
          "output_type": "stream",
          "text": [
            "WARNING:tensorflow:Error in loading the saved optimizer state. As a result, your model is starting with a freshly initialized optimizer.\n",
            "Model: \"sequential_1\"\n",
            "_________________________________________________________________\n",
            "Layer (type)                 Output Shape              Param #   \n",
            "=================================================================\n",
            "dense_1 (Dense)              (None, 512)               10752     \n",
            "_________________________________________________________________\n",
            "dropout_1 (Dropout)          (None, 512)               0         \n",
            "_________________________________________________________________\n",
            "dense_2 (Dense)              (None, 512)               262656    \n",
            "_________________________________________________________________\n",
            "activation_1 (Activation)    (None, 512)               0         \n",
            "_________________________________________________________________\n",
            "dropout_2 (Dropout)          (None, 512)               0         \n",
            "_________________________________________________________________\n",
            "dense_3 (Dense)              (None, 10)                5130      \n",
            "_________________________________________________________________\n",
            "activation_2 (Activation)    (None, 10)                0         \n",
            "=================================================================\n",
            "Total params: 278,538\n",
            "Trainable params: 278,538\n",
            "Non-trainable params: 0\n",
            "_________________________________________________________________\n"
          ],
          "name": "stdout"
        }
      ]
    },
    {
      "cell_type": "code",
      "metadata": {
        "id": "_8TrBr3-rSW1",
        "colab_type": "code",
        "outputId": "eb6cf1f3-e937-49af-b49f-197e88a6cd67",
        "colab": {
          "base_uri": "https://localhost:8080/",
          "height": 85
        }
      },
      "source": [
        "#test to see that the loaded model works properly\n",
        "import numpy as np\n",
        "#feeding sample mfccs for class 0.\n",
        "sample_mfccs = [-181.5716300186619, 13.067425309834757, -110.85055134173761, -9.068524171220472, -1.2984628746989908,\n",
        "                39.436294413594176, -11.955572530494793, -8.27045641645622, -1.6398283985684026, 7.107573167031457,\n",
        "                -14.903284713167196, -1.2327483320208874, 6.1677468305135825, 6.366361888102694, 2.250384814234832,\n",
        "                13.440506878383358, -5.911123458542153, 1.1202938047476207, -1.895890046440057, -2.0409995023706275]\n",
        "Xs = np.array(sample_mfccs, dtype=np.float32).reshape(1,20)\n",
        "print(Xs.shape)\n",
        "MyModel.predict(Xs)"
      ],
      "execution_count": 0,
      "outputs": [
        {
          "output_type": "stream",
          "text": [
            "(1, 20)\n"
          ],
          "name": "stdout"
        },
        {
          "output_type": "execute_result",
          "data": {
            "text/plain": [
              "array([[1.0000000e+00, 9.7003078e-19, 2.2786080e-11, 7.1497522e-18,\n",
              "        3.1314914e-24, 7.4506187e-15, 6.3757052e-20, 2.3781006e-16,\n",
              "        6.0799132e-27, 6.9530119e-22]], dtype=float32)"
            ]
          },
          "metadata": {
            "tags": []
          },
          "execution_count": 5
        }
      ]
    },
    {
      "cell_type": "code",
      "metadata": {
        "id": "JUjmC1LeXePd",
        "colab_type": "code",
        "outputId": "379a70f4-356e-4373-f0b7-53c6f074cb21",
        "colab": {
          "base_uri": "https://localhost:8080/",
          "height": 34
        }
      },
      "source": [
        "#convert the .h5 model to .tflite and save \n",
        "converter = tf.lite.TFLiteConverter.from_keras_model(MyModel)\n",
        "tflite_model = converter.convert()\n",
        "\n",
        "file = open( '/content/drive/My Drive/Tweeter/Models/tweeterpredictor.tflite' , 'wb' ) \n",
        "file.write( tflite_model )\n"
      ],
      "execution_count": 0,
      "outputs": [
        {
          "output_type": "execute_result",
          "data": {
            "text/plain": [
              "1115572"
            ]
          },
          "metadata": {
            "tags": []
          },
          "execution_count": 6
        }
      ]
    },
    {
      "cell_type": "code",
      "metadata": {
        "id": "ZrVgyVdpxzVB",
        "colab_type": "code",
        "outputId": "098308e0-b7ec-4622-da63-49159d2495a9",
        "colab": {
          "base_uri": "https://localhost:8080/",
          "height": 51
        }
      },
      "source": [
        "#test the .tflite model:\n",
        "import numpy as np\n",
        "import tensorflow as tf\n",
        "\n",
        "# Load TFLite model and allocate tensors.\n",
        "interpreter = tf.lite.Interpreter(model_path=\"/content/drive/My Drive/Tweeter/Models/tweeterpredictor.tflite\")\n",
        "interpreter.allocate_tensors()\n",
        "\n",
        "# Get input and output tensors.\n",
        "input_details = interpreter.get_input_details()\n",
        "output_details = interpreter.get_output_details()\n",
        "\n",
        "# Test model on random input data with input_data. Test model on mfccs extracted from class 0 with input_data2\n",
        "input_shape = input_details[0]['shape']\n",
        "input_data = np.array(np.random.random_sample(input_shape), dtype=np.float32)\n",
        "input_data2 = Xs\n",
        "\n",
        "interpreter.set_tensor(input_details[0]['index'], input_data2)\n",
        "\n",
        "interpreter.invoke()\n",
        "\n",
        "# The function `get_tensor()` returns a copy of the tensor data.\n",
        "# Use `tensor()` in order to get a pointer to the tensor.\n",
        "output_data = interpreter.get_tensor(output_details[0]['index'])\n",
        "print(output_data)"
      ],
      "execution_count": 0,
      "outputs": [
        {
          "output_type": "stream",
          "text": [
            "[[1.0000000e+00 9.7003450e-19 2.2786124e-11 7.1497795e-18 3.1314794e-24\n",
            "  7.4506466e-15 6.3757292e-20 2.3781096e-16 6.0799132e-27 6.9530119e-22]]\n"
          ],
          "name": "stdout"
        }
      ]
    }
  ]
}